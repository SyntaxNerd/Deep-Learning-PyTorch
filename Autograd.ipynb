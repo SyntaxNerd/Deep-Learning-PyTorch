{
  "nbformat": 4,
  "nbformat_minor": 0,
  "metadata": {
    "colab": {
      "provenance": [],
      "authorship_tag": "ABX9TyOTy4jnX/wvBLWtC3zMIrdu"
    },
    "kernelspec": {
      "name": "python3",
      "display_name": "Python 3"
    },
    "language_info": {
      "name": "python"
    }
  },
  "cells": [
    {
      "cell_type": "markdown",
      "source": [
        "# Autograds :\n",
        "    1. A technique in pytorch used for Automatic differentiation of tensor operations\n",
        "    2. Used to calculate derivatives for updation of weights during Back Propagation in neural network\n",
        "    3. It is one of the most crucial part in training a neural network"
      ],
      "metadata": {
        "id": "CbAhIjwaKd-h"
      }
    },
    {
      "cell_type": "code",
      "source": [
        "import torch"
      ],
      "metadata": {
        "id": "8A3zIOy-RSxu"
      },
      "execution_count": 1,
      "outputs": []
    },
    {
      "cell_type": "markdown",
      "source": [
        "## Example 1-"
      ],
      "metadata": {
        "id": "8NkUX4yKVHdZ"
      }
    },
    {
      "cell_type": "code",
      "execution_count": 2,
      "metadata": {
        "id": "7L-FHIfOGdI1"
      },
      "outputs": [],
      "source": [
        "# manual\n",
        "x = torch.tensor(3.0, requires_grad = True)"
      ]
    },
    {
      "cell_type": "code",
      "source": [
        "y = x**2"
      ],
      "metadata": {
        "id": "egsnK4EMR5XI"
      },
      "execution_count": 3,
      "outputs": []
    },
    {
      "cell_type": "code",
      "source": [
        "x"
      ],
      "metadata": {
        "colab": {
          "base_uri": "https://localhost:8080/"
        },
        "id": "2G-qJLnpR7Mf",
        "outputId": "f902cc84-2500-4ab5-fb61-17ac97ff7b64"
      },
      "execution_count": 4,
      "outputs": [
        {
          "output_type": "execute_result",
          "data": {
            "text/plain": [
              "tensor(3., requires_grad=True)"
            ]
          },
          "metadata": {},
          "execution_count": 4
        }
      ]
    },
    {
      "cell_type": "code",
      "source": [
        "y"
      ],
      "metadata": {
        "colab": {
          "base_uri": "https://localhost:8080/"
        },
        "id": "ftA57m6tR9qh",
        "outputId": "f55121fe-da58-437e-8088-a9c5c29de836"
      },
      "execution_count": 5,
      "outputs": [
        {
          "output_type": "execute_result",
          "data": {
            "text/plain": [
              "tensor(9., grad_fn=<PowBackward0>)"
            ]
          },
          "metadata": {},
          "execution_count": 5
        }
      ]
    },
    {
      "cell_type": "markdown",
      "source": [
        "    1. Here, **requires_grad** is for calculating gradients of x\n",
        "    2. **grad_fun** is for computation graph for calculating gradients in back propagation"
      ],
      "metadata": {
        "id": "_VDIQOUNSXHJ"
      }
    },
    {
      "cell_type": "code",
      "source": [
        "# calculate derivatives\n",
        "y.backward()"
      ],
      "metadata": {
        "id": "tUsggKMpR-lC"
      },
      "execution_count": 6,
      "outputs": []
    },
    {
      "cell_type": "code",
      "source": [
        "x.grad"
      ],
      "metadata": {
        "colab": {
          "base_uri": "https://localhost:8080/"
        },
        "id": "f1YIH9YUTBFW",
        "outputId": "289d79d9-8707-493b-d2ef-d1f02c4b23bd"
      },
      "execution_count": 8,
      "outputs": [
        {
          "output_type": "execute_result",
          "data": {
            "text/plain": [
              "tensor(6.)"
            ]
          },
          "metadata": {},
          "execution_count": 8
        }
      ]
    },
    {
      "cell_type": "markdown",
      "source": [
        "    1. y.backward() : for calculating the derivatives\n",
        "    2. x.grad : check the value of derivatives"
      ],
      "metadata": {
        "id": "eEUdjowiTPOQ"
      }
    },
    {
      "cell_type": "markdown",
      "source": [
        "## Example 2 -"
      ],
      "metadata": {
        "id": "0tcehNrxVClj"
      }
    },
    {
      "cell_type": "code",
      "source": [
        "X = torch.tensor(3.0, requires_grad = True)"
      ],
      "metadata": {
        "id": "9pNDPpnZTGCq"
      },
      "execution_count": 12,
      "outputs": []
    },
    {
      "cell_type": "code",
      "source": [
        "y = x ** 2"
      ],
      "metadata": {
        "id": "iyyrFC--U3dP"
      },
      "execution_count": 13,
      "outputs": []
    },
    {
      "cell_type": "code",
      "source": [
        "z = torch.sin(y)"
      ],
      "metadata": {
        "id": "XwH9gm33U5v3"
      },
      "execution_count": 14,
      "outputs": []
    },
    {
      "cell_type": "code",
      "source": [
        "x"
      ],
      "metadata": {
        "colab": {
          "base_uri": "https://localhost:8080/"
        },
        "id": "S3DZ8w0bU7zS",
        "outputId": "7ebdcc2c-3f47-49f8-908a-2cea5a19b28d"
      },
      "execution_count": 15,
      "outputs": [
        {
          "output_type": "execute_result",
          "data": {
            "text/plain": [
              "tensor(3., requires_grad=True)"
            ]
          },
          "metadata": {},
          "execution_count": 15
        }
      ]
    },
    {
      "cell_type": "code",
      "source": [
        "y"
      ],
      "metadata": {
        "colab": {
          "base_uri": "https://localhost:8080/"
        },
        "id": "G16aVy1ZVOyf",
        "outputId": "1eef6cc8-1121-47eb-d252-8f4528e610c1"
      },
      "execution_count": 16,
      "outputs": [
        {
          "output_type": "execute_result",
          "data": {
            "text/plain": [
              "tensor(9., grad_fn=<PowBackward0>)"
            ]
          },
          "metadata": {},
          "execution_count": 16
        }
      ]
    },
    {
      "cell_type": "code",
      "source": [
        "z"
      ],
      "metadata": {
        "colab": {
          "base_uri": "https://localhost:8080/"
        },
        "id": "QhcoNy8LVPUz",
        "outputId": "33ce6576-c0b0-4c6a-b54d-256962c8dbd5"
      },
      "execution_count": 17,
      "outputs": [
        {
          "output_type": "execute_result",
          "data": {
            "text/plain": [
              "tensor(0.4121, grad_fn=<SinBackward0>)"
            ]
          },
          "metadata": {},
          "execution_count": 17
        }
      ]
    },
    {
      "cell_type": "markdown",
      "source": [
        "    Here,\n",
        "    1. grad_fn : is PowBackward(power operation)\n",
        "    2. grad_fn : SinBackward(Sin operation)"
      ],
      "metadata": {
        "id": "HpuPr-bVVjmr"
      }
    },
    {
      "cell_type": "code",
      "source": [
        "# calculate derivative\n",
        "z.backward()"
      ],
      "metadata": {
        "id": "Sg5ITJ87VPrp"
      },
      "execution_count": 18,
      "outputs": []
    },
    {
      "cell_type": "code",
      "source": [
        "x.grad"
      ],
      "metadata": {
        "colab": {
          "base_uri": "https://localhost:8080/"
        },
        "id": "1gTAPgjPWHFA",
        "outputId": "d00939ae-8c2b-4221-9656-04ef3ed16e26"
      },
      "execution_count": 19,
      "outputs": [
        {
          "output_type": "execute_result",
          "data": {
            "text/plain": [
              "tensor(0.5332)"
            ]
          },
          "metadata": {},
          "execution_count": 19
        }
      ]
    },
    {
      "cell_type": "code",
      "source": [
        "y.grad"
      ],
      "metadata": {
        "colab": {
          "base_uri": "https://localhost:8080/"
        },
        "id": "ztKheDmxW8GK",
        "outputId": "5702d8da-c9a5-4f71-d5df-fc89bbb17f96"
      },
      "execution_count": 20,
      "outputs": [
        {
          "output_type": "stream",
          "name": "stderr",
          "text": [
            "/tmp/ipython-input-20-486760323.py:1: UserWarning: The .grad attribute of a Tensor that is not a leaf Tensor is being accessed. Its .grad attribute won't be populated during autograd.backward(). If you indeed want the .grad field to be populated for a non-leaf Tensor, use .retain_grad() on the non-leaf Tensor. If you access the non-leaf Tensor by mistake, make sure you access the leaf Tensor instead. See github.com/pytorch/pytorch/pull/30531 for more informations. (Triggered internally at /pytorch/build/aten/src/ATen/core/TensorBody.h:489.)\n",
            "  y.grad\n"
          ]
        }
      ]
    },
    {
      "cell_type": "markdown",
      "source": [
        "    Here,\n",
        "    1. The derivatives are calculated only for the leaf nodes i.e basically input nodes"
      ],
      "metadata": {
        "id": "dOPoKRGiWvsF"
      }
    },
    {
      "cell_type": "markdown",
      "source": [
        "## NN example"
      ],
      "metadata": {
        "id": "DuqSRZpDbKTl"
      }
    },
    {
      "cell_type": "code",
      "source": [
        "a = torch.tensor(6.7) # feature 1\n",
        "b = torch.tensor(0.0) # feature 2"
      ],
      "metadata": {
        "id": "fqU2cugQWIPT"
      },
      "execution_count": 21,
      "outputs": []
    },
    {
      "cell_type": "code",
      "source": [
        "w = torch.tensor(1.0, requires_grad = True) # weight\n",
        "b = torch.tensor(0.0, requires_grad = True) # bias"
      ],
      "metadata": {
        "id": "8lEMXoYQbXJh"
      },
      "execution_count": 24,
      "outputs": []
    },
    {
      "cell_type": "code",
      "source": [
        "z = w*x + b # weighted sum function"
      ],
      "metadata": {
        "id": "B3WTZSh_bgkt"
      },
      "execution_count": 28,
      "outputs": []
    },
    {
      "cell_type": "code",
      "source": [
        "y_pred = torch.sigmoid(z) # sigmoid(activation) function"
      ],
      "metadata": {
        "id": "p-VgmvQecOeo"
      },
      "execution_count": 29,
      "outputs": []
    },
    {
      "cell_type": "code",
      "source": [
        "y_pred"
      ],
      "metadata": {
        "colab": {
          "base_uri": "https://localhost:8080/"
        },
        "id": "CwFDA9xucTdv",
        "outputId": "21808a33-8725-4f94-cce5-5f8be74fe0a5"
      },
      "execution_count": 30,
      "outputs": [
        {
          "output_type": "execute_result",
          "data": {
            "text/plain": [
              "tensor(0.9526, grad_fn=<SigmoidBackward0>)"
            ]
          },
          "metadata": {},
          "execution_count": 30
        }
      ]
    },
    {
      "cell_type": "markdown",
      "source": [
        "## Vectors"
      ],
      "metadata": {
        "id": "kOtMjW-reafA"
      }
    },
    {
      "cell_type": "code",
      "source": [
        "c = torch.tensor([1.0, 2.0, 3.0], requires_grad = True)"
      ],
      "metadata": {
        "id": "CTt-w-hyebYI"
      },
      "execution_count": 31,
      "outputs": []
    },
    {
      "cell_type": "code",
      "source": [
        "c"
      ],
      "metadata": {
        "colab": {
          "base_uri": "https://localhost:8080/"
        },
        "id": "VCbd5ECFex4H",
        "outputId": "8118d25b-0090-496c-ef88-06364c026fed"
      },
      "execution_count": 36,
      "outputs": [
        {
          "output_type": "execute_result",
          "data": {
            "text/plain": [
              "tensor([1., 2., 3.], requires_grad=True)"
            ]
          },
          "metadata": {},
          "execution_count": 36
        }
      ]
    },
    {
      "cell_type": "code",
      "source": [
        "d = (x**2).mean()"
      ],
      "metadata": {
        "id": "ts0EuPWUeg4R"
      },
      "execution_count": 37,
      "outputs": []
    },
    {
      "cell_type": "code",
      "source": [
        "d.backward()"
      ],
      "metadata": {
        "id": "qr1sw8BUekJQ"
      },
      "execution_count": 38,
      "outputs": []
    },
    {
      "cell_type": "code",
      "source": [
        "c.grad"
      ],
      "metadata": {
        "id": "sGnFdL7venDb"
      },
      "execution_count": 39,
      "outputs": []
    },
    {
      "cell_type": "markdown",
      "source": [
        "# Clearing gradients"
      ],
      "metadata": {
        "id": "H7R1mBwKiDB2"
      }
    },
    {
      "cell_type": "code",
      "source": [
        "q = torch.tensor(2.0, requires_grad = True)"
      ],
      "metadata": {
        "id": "Pp2IIpStenzc"
      },
      "execution_count": 40,
      "outputs": []
    },
    {
      "cell_type": "code",
      "source": [
        "u = q ** 2\n",
        "u"
      ],
      "metadata": {
        "colab": {
          "base_uri": "https://localhost:8080/"
        },
        "id": "obA7d8V6iZOw",
        "outputId": "dfdf9037-c782-4e4b-c136-fb36357e240c"
      },
      "execution_count": 51,
      "outputs": [
        {
          "output_type": "execute_result",
          "data": {
            "text/plain": [
              "tensor(4., grad_fn=<PowBackward0>)"
            ]
          },
          "metadata": {},
          "execution_count": 51
        }
      ]
    },
    {
      "cell_type": "code",
      "source": [
        "u.backward()"
      ],
      "metadata": {
        "id": "pIR73-mTibGI"
      },
      "execution_count": 52,
      "outputs": []
    },
    {
      "cell_type": "code",
      "source": [
        "q.grad"
      ],
      "metadata": {
        "colab": {
          "base_uri": "https://localhost:8080/"
        },
        "id": "b10TkYYYieAz",
        "outputId": "ffb36b4c-3afd-42ab-df5f-ab2ef181ee6a"
      },
      "execution_count": 53,
      "outputs": [
        {
          "output_type": "execute_result",
          "data": {
            "text/plain": [
              "tensor(4.)"
            ]
          },
          "metadata": {},
          "execution_count": 53
        }
      ]
    },
    {
      "cell_type": "code",
      "source": [
        "q.grad.zero_()"
      ],
      "metadata": {
        "colab": {
          "base_uri": "https://localhost:8080/"
        },
        "id": "mruXp9Qfijiy",
        "outputId": "27b6db6a-9926-4ed8-fc09-07612cc0d66e"
      },
      "execution_count": 54,
      "outputs": [
        {
          "output_type": "execute_result",
          "data": {
            "text/plain": [
              "tensor(0.)"
            ]
          },
          "metadata": {},
          "execution_count": 54
        }
      ]
    },
    {
      "cell_type": "markdown",
      "source": [
        "    Here,\n",
        "    1. Disable gradient tracking at the time of predictions\n",
        "    2. Use, detach() or requires_grad = False\n"
      ],
      "metadata": {
        "id": "6sYEx4Gcj6HY"
      }
    }
  ]
}